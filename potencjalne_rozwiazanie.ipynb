{
 "cells": [
  {
   "cell_type": "code",
   "execution_count": 7,
   "metadata": {},
   "outputs": [],
   "source": [
    "import sys, datetime\n",
    "import pandas as pd\n",
    "from requests_ntlm import HttpNtlmAuth\n",
    "from shareplum import Site\n",
    "username = ''\n",
    "password = ''\n",
    "url = ''"
   ]
  },
  {
   "cell_type": "code",
   "execution_count": 8,
   "metadata": {},
   "outputs": [],
   "source": [
    "#Czytanie z sharepoint\n",
    "auth = HttpNtlmAuth(username, password)\n",
    "site = Site(url, auth=auth, verify_ssl=True)\n",
    "\n",
    "site_list = site.List('nazwa listy')\n",
    "df = pd.DataFrame.from_dict(site_list)\n"
   ]
  },
  {
   "cell_type": "code",
   "execution_count": null,
   "metadata": {},
   "outputs": [],
   "source": [
    "#Pobieranie z sharepoint\n",
    "site.download('nazwa.csv', 'sciezka_do_zapisu_lokalnego')"
   ]
  }
 ],
 "metadata": {
  "kernelspec": {
   "display_name": "Python 3",
   "language": "python",
   "name": "python3"
  },
  "language_info": {
   "codemirror_mode": {
    "name": "ipython",
    "version": 3
   },
   "file_extension": ".py",
   "mimetype": "text/x-python",
   "name": "python",
   "nbconvert_exporter": "python",
   "pygments_lexer": "ipython3",
   "version": "3.7.0"
  }
 },
 "nbformat": 4,
 "nbformat_minor": 2
}
